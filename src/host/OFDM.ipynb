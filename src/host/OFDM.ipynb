{
 "cells": [
  {
   "cell_type": "code",
   "execution_count": 1,
   "id": "453350dd",
   "metadata": {},
   "outputs": [
    {
     "data": {
      "application/javascript": "\ntry {\nrequire(['notebook/js/codecell'], function(codecell) {\n  codecell.CodeCell.options_default.highlight_modes[\n      'magic_text/x-csrc'] = {'reg':[/^%%microblaze/]};\n  Jupyter.notebook.events.one('kernel_ready.Kernel', function(){\n      Jupyter.notebook.get_cells().map(function(cell){\n          if (cell.cell_type == 'code'){ cell.auto_highlight(); } }) ;\n  });\n});\n} catch (e) {};\n"
     },
     "metadata": {},
     "output_type": "display_data"
    },
    {
     "data": {
      "application/javascript": "\ntry {\nrequire(['notebook/js/codecell'], function(codecell) {\n  codecell.CodeCell.options_default.highlight_modes[\n      'magic_text/x-csrc'] = {'reg':[/^%%pybind11/]};\n  Jupyter.notebook.events.one('kernel_ready.Kernel', function(){\n      Jupyter.notebook.get_cells().map(function(cell){\n          if (cell.cell_type == 'code'){ cell.auto_highlight(); } }) ;\n  });\n});\n} catch (e) {};\n"
     },
     "metadata": {},
     "output_type": "display_data"
    }
   ],
   "source": [
    "from __future__ import print_function\n",
    "\n",
    "import sys\n",
    "import numpy as np\n",
    "from time import time\n",
    "import matplotlib.pyplot as plt \n",
    "\n",
    "sys.path.append('/home/xilinx')\n",
    "from pynq import Overlay\n",
    "from pynq import allocate"
   ]
  },
  {
   "cell_type": "code",
   "execution_count": 2,
   "id": "9b40f66b",
   "metadata": {},
   "outputs": [
    {
     "name": "stdout",
     "output_type": "stream",
     "text": [
      "Entry: /usr/local/share/pynq-venv/lib/python3.8/site-packages/ipykernel_launcher.py\n",
      "System argument(s): 3\n",
      "Start of \"/usr/local/share/pynq-venv/lib/python3.8/site-packages/ipykernel_launcher.py\"\n"
     ]
    }
   ],
   "source": [
    "if __name__ == \"__main__\":\n",
    "    print(\"Entry:\", sys.argv[0])\n",
    "    print(\"System argument(s):\", len(sys.argv))\n",
    "\n",
    "    print(\"Start of \\\"\" + sys.argv[0] + \"\\\"\")\n",
    "\n",
    "    ol = Overlay(\"/home/xilinx/ofdm/ofdm.bit\")\n",
    "    ipMOD = ol.QAM16_Streaming_0\n",
    "    ipDEMOD = ol.QAM16_demodStr_0\n",
    "    ipFFT = ol.fft_streaming_0\n",
    "    ipIFFT = ol.ifft_streaming_0\n",
    "    ipCP = ol.cp_stream_0\n",
    "    ipRMCP = ol.rmCP_stream_0\n",
    "    ipDMAIn = ol.axi_dma_in_0\n",
    "    ipDMAOut = ol.axi_dma_out_0"
   ]
  },
  {
   "cell_type": "code",
   "execution_count": 3,
   "id": "ff2f61af",
   "metadata": {},
   "outputs": [],
   "source": [
    "#inputSamples = open(\"/home/xilinx/channel/InputSignal.txt\", \"r+\")"
   ]
  },
  {
   "cell_type": "code",
   "execution_count": null,
   "id": "9b18c92d",
   "metadata": {},
   "outputs": [],
   "source": [
    "numSamples = 3584"
   ]
  },
  {
   "cell_type": "code",
   "execution_count": 5,
   "id": "d2a85d36",
   "metadata": {},
   "outputs": [],
   "source": [
    "inBuffer0 = allocate(shape=(numSamples,), dtype=np.uint64)\n",
    "outBuffer0 = allocate(shape=(numSamples,), dtype=np.uint64)"
   ]
  },
  {
   "cell_type": "code",
   "execution_count": 6,
   "id": "e224cc0a",
   "metadata": {},
   "outputs": [],
   "source": [
    "#inputSamples.seek(0)"
   ]
  },
  {
   "cell_type": "code",
   "execution_count": 7,
   "id": "3eaef0af",
   "metadata": {},
   "outputs": [
    {
     "data": {
      "text/plain": [
       "PynqBuffer([0, 0, 0, ..., 0, 0, 0], dtype=uint64)"
      ]
     },
     "execution_count": 7,
     "metadata": {},
     "output_type": "execute_result"
    }
   ],
   "source": [
    "for i in range(numSamples):\n",
    "    inBuffer0[i] = i\n",
    "inBuffer0"
   ]
  },
  {
   "cell_type": "code",
   "execution_count": null,
   "id": "0b3982b1",
   "metadata": {},
   "outputs": [],
   "source": [
    "timeKernelStart = time()\n",
    "ipMOD.write(0x00, 0x81)\n",
    "iDEpMOD.write(0x00, 0x81)\n",
    "ipFFT.write(0x00, 0x81)\n",
    "ipIFFT.write(0x00, 0x81)\n",
    "ipCP.write(0x00, 0x81)\n",
    "ipRMCP.write(0x00, 0x81)\n",
    "\n",
    "ipDMAIn.sendchannel.transfer(inBuffer0)\n",
    "ipDMAOut.recvchannel.transfer(outBuffer0)\n",
    "ipDMAIn.sendchannel.wait()\n",
    "ipDMAOut.recvchannel.wait()\n",
    "timeKernelEnd = time()\n",
    "outBuffer0"
   ]
  },
  {
   "cell_type": "code",
   "execution_count": 9,
   "id": "27e3e10c",
   "metadata": {},
   "outputs": [],
   "source": [
    "I_array = np.zeros(numSamples)\n",
    "Q_array = np.zeros(numSamples)\n",
    "path = 'output.txt'\n",
    "f = open(path, 'w')\n",
    "for i in range(numSamples):\n",
    "    outBuffer0[i]\n",
    "    I = np.array(outBuffer0[i] >> np.uint64(32), dtype=np.uint32)\n",
    "    Q = np.array(outBuffer0[i], dtype=np.uint32)\n",
    "    I = I.view(dtype=np.float32)\n",
    "    Q = Q.view(dtype=np.float32)\n",
    "    I_array[i] = I\n",
    "    Q_array[i] = Q\n",
    "    f.write(str(outBuffer0[i])+\"\\n\")\n",
    "#inputSamples.close()\n",
    "f.close()"
   ]
  }
 ],
 "metadata": {
  "kernelspec": {
   "display_name": "Python 3",
   "language": "python",
   "name": "python3"
  },
  "language_info": {
   "codemirror_mode": {
    "name": "ipython",
    "version": 3
   },
   "file_extension": ".py",
   "mimetype": "text/x-python",
   "name": "python",
   "nbconvert_exporter": "python",
   "pygments_lexer": "ipython3",
   "version": "3.8.2"
  }
 },
 "nbformat": 4,
 "nbformat_minor": 5
}
